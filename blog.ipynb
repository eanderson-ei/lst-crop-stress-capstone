{
 "cells": [
  {
   "attachments": {},
   "cell_type": "markdown",
   "metadata": {},
   "source": [
    "# <span style=\"color:green\">Evaluation of Satellite Imagery Inputs Used to Create a \"Fused\" Land Surface Temperature product</span>\n",
    "Erik Anderson &\n",
    "Tyler Cruickshank\n",
    "\n",
    "[Project Repository](https://github.com/eriktuck/ea-lst-capstone)"
   ]
  },
  {
   "attachments": {},
   "cell_type": "markdown",
   "metadata": {},
   "source": [
    "<img src=\"assets/anim.gif\" width=\"600\" height=\"400\"/>"
   ]
  },
  {
   "attachments": {},
   "cell_type": "markdown",
   "metadata": {},
   "source": [
    "# <span style=\"color:green\">Project Overview</span>"
   ]
  },
  {
   "attachments": {},
   "cell_type": "markdown",
   "metadata": {},
   "source": [
    "Maximizing agricultural productivity is critical for maintaining world food supply and controlling food cost. Modern agribusiness employs targeted technology to <span style=\"color:lightblue\">optimize cropland productivity</span> using modern information and communication technologies at fine spatial resolution (within-field scale). \n",
    "\n",
    "[Hyrdrosat](https://www.hydrosat.com/) is a value-added satellite data provider whose mission is to provide real-time thermal infrared data to customers in the agribusiness and government sectors. Thermal infrared data can be used to <span style=\"color:lightblue\"> inform adaptive irrigation </span> and <span style=\"color:lightblue\"> predict crop yields </span>. \n",
    "\n",
    "Until the upcoming launch of its own 16-satellite constellation, Hydrosat produces estimates of land surface temperature using publicly available thermal infrared data using a combination of MODIS, Sentinel and Landsat imaging platforms. Available data suffers from low spatial and temporal resolutions. Hydrosat utilizes a data mining approach for sharpening thermal satellite imagery (DMS; as described in Gao 2012) and a separate algorithm for interpolating land surface temperature between acquisition windows (STARFM; as described in Gao 2006), to produce a proprietry \"Fused\" Land Surface Temperature (LST) imagery product resulting in a near daily estimate of LST at sub-30 meter resolution. \n",
    "\n",
    "The Fused LST product and its inputs are accessed from a Spatial Temporal Asset Catalog (STAC). STAC is a specification standard with a unified language to describe geospatial data which allows it to be more easily searchable and queryable. Data are served through the [Hydrosat's Fusion Hub](https://hydrosat.github.io/fusion-hub-docs/intro.html). (Credentials for data access must be requested as directed on the Fusion Hub homepage.) \n",
    "\n",
    "This project aims to explore the input data and intermediate outputs of the algorithms used to produce the LST product in order to detect errors potentially introduced by data quality isses or the application of the algorithms while also exploring applications within agricultural contexts. "
   ]
  },
  {
   "cell_type": "code",
   "execution_count": 76,
   "metadata": {},
   "outputs": [],
   "source": [
    "# Import standard libraries\n",
    "import base64\n",
    "from datetime import datetime, timedelta\n",
    "import json\n",
    "import os\n",
    "import yaml\n",
    "\n",
    "# Import installed libraries\n",
    "from pystac_client import Client\n",
    "from shapely.geometry import Point\n",
    "\n",
    "# Import local modules\n",
    "from library import utils\n",
    "from library.FH_Hydrosat import FH_Hydrosat\n",
    "\n",
    "# Read configuration file\n",
    "with open(\"config.yml\",\"r\") as f:\n",
    "    config = yaml.safe_load(f)"
   ]
  },
  {
   "cell_type": "code",
   "execution_count": 77,
   "metadata": {},
   "outputs": [
    {
     "name": "stdout",
     "output_type": "stream",
     "text": [
      "Data range from 2016-08-13 00:00:00 to 2022-12-31 23:30:00\n"
     ]
    }
   ],
   "source": [
    "# Specify crop type\n",
    "met_tower = 'alfalfa'\n",
    "\n",
    "# Define paths to data\n",
    "data_dir = os.path.join('data', 'Ameriflux')\n",
    "file_name = config[met_tower]['data_params']['file_name']\n",
    "file_path = os.path.join(data_dir, file_name)\n",
    "\n",
    "# Read data\n",
    "bi1_df = utils.read_ameriflux(file_path)\n",
    "print(f'Data range from {bi1_df.index.min()} to {bi1_df.index.max()}')\n"
   ]
  },
  {
   "cell_type": "code",
   "execution_count": 78,
   "metadata": {},
   "outputs": [],
   "source": [
    "# Authenticate and access catalog\n",
    "with open(os.path.join('secrets', 'creds.json')) as f:\n",
    "    creds = json.loads(f.read())\n",
    "    \n",
    "userpass = f\"{creds['username']}:{creds['password']}\"\n",
    "b64 = base64.b64encode(userpass.encode()).decode()\n",
    "headers = {'Authorization':'Basic ' + b64}\n",
    "\n",
    "cat_url = 'https://fusion-stac.hydrosat.com'\n",
    "catalog = Client.open(cat_url, headers)"
   ]
  },
  {
   "cell_type": "code",
   "execution_count": 81,
   "metadata": {},
   "outputs": [
    {
     "name": "stdout",
     "output_type": "stream",
     "text": [
      "number of source prepped_inputs_s2 items: 111\n"
     ]
    }
   ],
   "source": [
    "geom = {'type': 'Point', 'coordinates': config[met_tower]['field_center']}\n",
    "pt = Point(geom['coordinates'])\n",
    "\n",
    "start_date = \"2021-01-01T00:00:00Z\"\n",
    "end_date = \"2022-12-31T00:00:00Z\"\n",
    "\n",
    "collection = 'prepped_inputs_s2'\n",
    "\n",
    "search = catalog.search(\n",
    "    collections=collection,\n",
    "    intersects=geom,\n",
    "    datetime=[start_date, end_date],\n",
    "    max_items=1000\n",
    ")\n",
    "\n",
    "items = search.get_all_items()\n",
    "print(f'number of source {collection} items: {len(items)}')"
   ]
  },
  {
   "attachments": {},
   "cell_type": "markdown",
   "metadata": {},
   "source": [
    "# <span style=\"color:green\">Project Location</span>"
   ]
  },
  {
   "attachments": {},
   "cell_type": "markdown",
   "metadata": {},
   "source": [
    "The project is focused on agricultural areas with active farming in the San Joaquin Valley of California, United States."
   ]
  },
  {
   "attachments": {},
   "cell_type": "markdown",
   "metadata": {},
   "source": [
    "The Normalized Difference Vegetation Index (NDVI) is a commonly used remotely sensed index that provides data on the \"greenness\" or health of crop vegetation. However, the NDVI index is a lagging indicator of crop stress because water or heat stress occurs prior to the degradation of vegetation greenness."
   ]
  },
  {
   "attachments": {},
   "cell_type": "markdown",
   "metadata": {},
   "source": [
    "## <span style=\"color:green\">Collaborators </span>\n",
    "\n",
    "- [Erik Anderson](https://github.com/eriktuck)\n",
    "- [Tyler Cruickshank](https://github.com/tcruicks)\n",
    "- [Joe McGlinchy](https://github.com/joemcglinchy)\n",
    "We thank Joe McGlinchy of Hydrosat for providing project guidance and data access."
   ]
  },
  {
   "attachments": {},
   "cell_type": "markdown",
   "metadata": {},
   "source": [
    "## <span style=\"color:green\">References</span>"
   ]
  },
  {
   "attachments": {},
   "cell_type": "markdown",
   "metadata": {},
   "source": [
    "Gao, F. Masek, J. Schwaller, M. Hall, F. 2006. On the Blending of Landsat and MODIS Surface Reflectance: Predicting Landsat Surface Reflectance. IEE Transaction on Geoscience and Remote Sensing Vol 44, No 8.\n",
    "\n",
    "Gao, F. Kustas, W. Anderson, M. 2012. A Data Mining Approach for Sharpening Thermal Satellite Imagery Over Land. Remote Sensing. doi: 10.3390/rs4113287.\n",
    "\n",
    "Karnieli, A., Agam, N., Pinker, R., Anderseon, M., Imhoff, M., Gutman, G., Panov, N., Goldberg, A., Use of NDVI and Land Surface Temperature for Drought Assessment: Merits and Limitations.  Journal of Climate. Vol 23. 2010\n",
    "\n",
    "Y. Erdem , T. Erdem , A.H. Orta & H. Okursoy. Canopy-air temperature differential for potato under different irrigation regimes. Acta Agriculturae Scandinavica Section B-Soil and Plant Science, 2006; 56: 206216"
   ]
  }
 ],
 "metadata": {
  "kernelspec": {
   "display_name": "ea-lst-alpha",
   "language": "python",
   "name": "python3"
  },
  "language_info": {
   "codemirror_mode": {
    "name": "ipython",
    "version": 3
   },
   "file_extension": ".py",
   "mimetype": "text/x-python",
   "name": "python",
   "nbconvert_exporter": "python",
   "pygments_lexer": "ipython3",
   "version": "3.11.3"
  },
  "orig_nbformat": 4
 },
 "nbformat": 4,
 "nbformat_minor": 2
}
