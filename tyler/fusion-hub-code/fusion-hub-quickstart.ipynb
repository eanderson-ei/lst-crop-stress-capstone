{
 "cells": [
  {
   "cell_type": "markdown",
   "id": "41ecfbed",
   "metadata": {},
   "source": [
    "# Fusion Hub Data Quick-Start"
   ]
  },
  {
   "cell_type": "markdown",
   "id": "4db7c51e",
   "metadata": {},
   "source": [
    "This notebook demonstrates the process of:\n",
    "* Searching a collection to intersect a point location between a start data and end date\n",
    "* Converting the search result to an `xarray` DataArray\n",
    "* Subsetting the DataArray to a geometry\n",
    "* Plotting the time series in a grid\n",
    "* Extracting data from a point location\n",
    "* Reducing the data within a geometry\n",
    "* Downloading a file based on valid data percentage\n",
    "* Downloading multiple files\n",
    "* Removing data entries based on some condition\n",
    "* Creating matplotlib animations"
   ]
  },
  {
   "cell_type": "code",
   "execution_count": 1,
   "id": "dc9f1b7a",
   "metadata": {},
   "outputs": [
    {
     "ename": "ModuleNotFoundError",
     "evalue": "No module named 'requests'",
     "output_type": "error",
     "traceback": [
      "\u001b[0;31m---------------------------------------------------------------------------\u001b[0m",
      "\u001b[0;31mModuleNotFoundError\u001b[0m                       Traceback (most recent call last)",
      "Cell \u001b[0;32mIn[1], line 2\u001b[0m\n\u001b[1;32m      1\u001b[0m \u001b[39mimport\u001b[39;00m \u001b[39mjson\u001b[39;00m\n\u001b[0;32m----> 2\u001b[0m \u001b[39mimport\u001b[39;00m \u001b[39mrequests\u001b[39;00m\n\u001b[1;32m      3\u001b[0m \u001b[39mimport\u001b[39;00m \u001b[39mpystac\u001b[39;00m\n\u001b[1;32m      4\u001b[0m \u001b[39mfrom\u001b[39;00m \u001b[39mpystac_client\u001b[39;00m \u001b[39mimport\u001b[39;00m Client\n",
      "\u001b[0;31mModuleNotFoundError\u001b[0m: No module named 'requests'"
     ]
    }
   ],
   "source": [
    "import json\n",
    "import requests\n",
    "import pystac\n",
    "from pystac_client import Client\n",
    "from pprint import pprint\n",
    "\n",
    "from botocore.exceptions import ClientError\n",
    "from shapely.geometry import box, mapping, Point, Polygon\n",
    "from pyproj.crs import CRS\n",
    "import pandas as pd\n",
    "import geopandas as gpd\n",
    "\n",
    "import xarray as xr\n",
    "import rioxarray as rxr\n",
    "import rasterio as rio\n",
    "\n",
    "from matplotlib import pyplot as plt\n",
    "import numpy as np\n",
    "\n",
    "import get_hrrr as hrrr\n",
    "\n",
    "import os\n",
    "import base64"
   ]
  },
  {
   "cell_type": "markdown",
   "id": "5ff1f0f6-8d3b-4a3a-b25b-3baca3b63dc3",
   "metadata": {},
   "source": [
    "If you see `ERROR 1: PROJ: proj_create_from_database: Open of /opt/conda/share/proj failed`, do not fret, and proceed."
   ]
  },
  {
   "cell_type": "markdown",
   "id": "85c422bd-7006-4992-9532-9d1d71979697",
   "metadata": {},
   "source": [
    "This next cell opens a file `creds.json` which you will need to create in the same directory as the notebook. The format of the file should be:\n",
    "\n",
    "```\n",
    "{\n",
    "\"username\":\"your_username\",\n",
    "\"password\":\"your_password\"\n",
    "}\n",
    "```\n",
    "\n",
    "and you have updated with your username and password. "
   ]
  },
  {
   "cell_type": "code",
   "execution_count": 2,
   "id": "e6b6f7f9-8060-44e5-875d-695a37f24cf9",
   "metadata": {},
   "outputs": [],
   "source": [
    "with open('creds.json') as f:\n",
    "    creds = json.loads(f.read())\n",
    "    "
   ]
  },
  {
   "cell_type": "markdown",
   "id": "4760f616-4cf5-4775-82aa-74051f55c17b",
   "metadata": {},
   "source": [
    "This next cell will endecode the `username:password` combination and use it to authorize access to the STAC API given by the `cat_url` endpoint."
   ]
  },
  {
   "cell_type": "code",
   "execution_count": 3,
   "id": "7c12f439",
   "metadata": {},
   "outputs": [],
   "source": [
    "userpass = f\"{creds['username']}:{creds['password']}\"\n",
    "b64 = base64.b64encode(userpass.encode()).decode()\n",
    "headers = {'Authorization':'Basic ' + b64}\n",
    "\n",
    "cat_url = 'https://fusion-stac.hydrosat.com'\n",
    "catalog = Client.open(cat_url, headers)"
   ]
  },
  {
   "cell_type": "markdown",
   "id": "cefc4849",
   "metadata": {},
   "source": [
    "We'll search for data in the `starfm_predictions_modis_landsat` and `pydms_sharpened_landsat` collections which intersect a point location between a start date and an end date and print out the number of items. "
   ]
  },
  {
   "cell_type": "code",
   "execution_count": 33,
   "id": "a212b230",
   "metadata": {},
   "outputs": [
    {
     "data": {
      "text/plain": [
       "180"
      ]
     },
     "execution_count": 33,
     "metadata": {},
     "output_type": "execute_result"
    }
   ],
   "source": [
    "# Specifiy location and time frame for image download.\n",
    "site_name = 'ames'\n",
    "lat = 42\n",
    "lon = -93.7\n",
    "\n",
    "geom = {'type': 'Point', 'coordinates': [lon, lat]} \n",
    "\n",
    "collections = [\"starfm_predictions_modis_landsat\", \"pydms_sharpened_landsat\"]\n",
    "start_date = \"2020-04-01T00:00:00Z\"\n",
    "end_date = \"2020-10-01T00:00:00Z\"\n",
    "\n",
    "search = catalog.search(\n",
    "    collections = collections,\n",
    "    intersects = geom,\n",
    "    datetime = [start_date, end_date],\n",
    "    max_items = 500\n",
    ")\n",
    "\n",
    "# items = list(search.items()) # for pystac-client >= 0.4.0\n",
    "items = list(search.get_all_items()) # for pystac-client < 0.4.0\n",
    "items.reverse() # make the results ascending in time\n",
    "len(items)"
   ]
  },
  {
   "cell_type": "markdown",
   "id": "dced2d9f",
   "metadata": {},
   "source": [
    "This next cell will determine if the data returned covers more than a single MGRS tile. If there is, choose one of the tiles to subset the list of returned items."
   ]
  },
  {
   "cell_type": "code",
   "execution_count": 34,
   "id": "ea830956",
   "metadata": {},
   "outputs": [
    {
     "name": "stdout",
     "output_type": "stream",
     "text": [
      "number of tiles in query: 1, {'15TVG'}\n"
     ]
    }
   ],
   "source": [
    "mgrs_tiles = []\n",
    "for i in items:\n",
    "    for l in i.to_dict()['links']:\n",
    "        if 'element84' in l['href']:\n",
    "            mgrs_tiles.append(l['href'].split(r'/')[-1].split('_')[1])\n",
    "print(f'number of tiles in query: {len(set(mgrs_tiles))}, {set(mgrs_tiles)}')\n",
    "\n",
    "# if there is more than one tile, uncomment and execute this next line to choose the MGRS tile you are interested in\n",
    "# items = [i for i in items if mgrs_tiles[0] in i.id]"
   ]
  },
  {
   "cell_type": "markdown",
   "id": "0cd358be",
   "metadata": {},
   "source": [
    "Now we'll pass the first 25 items to the `FH_Hydrosat` class and stack the items into an `xarray` `DataArray`. We'll print out the DataArray to get a summary of its contents."
   ]
  },
  {
   "cell_type": "code",
   "execution_count": null,
   "id": "59b47ccb",
   "metadata": {
    "tags": []
   },
   "outputs": [],
   "source": [
    "from FH_Hydrosat import FH_Hydrosat\n",
    "res = FH_Hydrosat(items[:25])\n",
    "stacked_res = res.stack()\n",
    "stacked_res.ds.sortby('time')"
   ]
  },
  {
   "cell_type": "code",
   "execution_count": 36,
   "id": "938d450b-f3a1-447b-8c10-9d507f9e18b2",
   "metadata": {},
   "outputs": [],
   "source": [
    "ds = stacked_res.ds.sortby('time')"
   ]
  },
  {
   "cell_type": "markdown",
   "id": "be11fba0",
   "metadata": {},
   "source": [
    "The `DataArray` is quite large if we try to access all of the data. For ease of computation, we'll subset the `DataArray` by a polygon, which will be generated by creating a rectangular buffer around the point location by 1km on either side."
   ]
  },
  {
   "cell_type": "code",
   "execution_count": 37,
   "id": "133a42b9",
   "metadata": {},
   "outputs": [],
   "source": [
    "p_geom = Point(geom['coordinates'][0], geom['coordinates'][1])\n",
    "point_df = gpd.GeoDataFrame({'geometry':[p_geom]}, crs=CRS.from_epsg(4326))"
   ]
  },
  {
   "cell_type": "code",
   "execution_count": 38,
   "id": "ab80d37b",
   "metadata": {},
   "outputs": [],
   "source": [
    "raster_crs = CRS.from_wkt(ds.spatial_ref.crs_wkt)\n",
    "buffer_dist = 1000 # 1km in local UTM zone\n",
    "poly_df = point_df.to_crs(raster_crs).buffer(buffer_dist, cap_style = 3) # square buffer\n"
   ]
  },
  {
   "cell_type": "markdown",
   "id": "270b0e13",
   "metadata": {},
   "source": [
    "Let's plot the polygon on a Folium map so we can see where we are extracting the data"
   ]
  },
  {
   "cell_type": "code",
   "execution_count": null,
   "id": "0a755eb5",
   "metadata": {},
   "outputs": [],
   "source": [
    "import folium \n",
    "\n",
    "# Use WGS 84 (epsg:4326) as the geographic coordinate system\n",
    "df = gpd.GeoDataFrame(poly_df.to_crs(epsg=4326))\n",
    "\n",
    "m = folium.Map(location=[p_geom.y, p_geom.x], zoom_start=15, tiles='CartoDB positron', control_scale=True)\n",
    "\n",
    "# ---------------------------------\n",
    "# Use satellite image for base map.\n",
    "tile = folium.TileLayer(\n",
    "    tiles = 'https://server.arcgisonline.com/ArcGIS/rest/services/World_Imagery/MapServer/tile/{z}/{y}/{x}',\n",
    "    attr = 'Esri',\n",
    "    name = 'Esri Satellite',\n",
    "    overlay = False,\n",
    "    control = True\n",
    "    ).add_to(m)\n",
    "# ---------------------------------\n",
    "\n",
    "# add the polygon and centroid\n",
    "for _, r in df.iterrows():\n",
    "    # Without simplifying the representation of each polygon,\n",
    "    # the map might not be displayed\n",
    "    #sim_geo = gpd.GeoSeries(r['geometry']).simplify(tolerance=0.001)\n",
    "    sim_geo = r[0].simplify(tolerance=0.001)\n",
    "    geo_j = gpd.GeoSeries(sim_geo).to_json()\n",
    "    geo_j = folium.GeoJson(data=geo_j,\n",
    "                    style_function=lambda x: {'fillColor': 'orange'})\n",
    "\n",
    "    geo_j.add_to(m)\n",
    "        \n",
    "    lat = sim_geo.centroid.y\n",
    "    lon = sim_geo.centroid.x\n",
    "    folium.Marker(location=[lat, lon]).add_to(m)\n",
    "    \n",
    "m"
   ]
  },
  {
   "cell_type": "markdown",
   "id": "5672cade",
   "metadata": {},
   "source": [
    "Now let's clip the dataset with the geometry using `rioxarray`'s `rio` utility package"
   ]
  },
  {
   "cell_type": "code",
   "execution_count": null,
   "id": "1624eb76",
   "metadata": {
    "tags": []
   },
   "outputs": [],
   "source": [
    "from FH_Hydrosat import FH_StackedDataset\n",
    "\n",
    "# clip the raster dataset and cast to a class with slightly more functions\n",
    "clipped = FH_StackedDataset(ds.rio.clip(poly_df.geometry))\n",
    "ds_clip = clipped.ds  #*************** what is this?\n",
    "ds_clip"
   ]
  },
  {
   "cell_type": "markdown",
   "id": "6469683f",
   "metadata": {},
   "source": [
    "Now that we have a smaller `DataArray`, let's plot the contents according to the `time` dimension using `xarray`'s plot utility."
   ]
  },
  {
   "cell_type": "code",
   "execution_count": 41,
   "id": "0c36ccf9",
   "metadata": {
    "tags": []
   },
   "outputs": [
    {
     "name": "stderr",
     "output_type": "stream",
     "text": [
      "ERROR 1: Request for 346275-352174 failed with response_code=0\n",
      "ERROR 1: Request for 346275-352174 failed with response_code=0\n",
      "ERROR 1: Request for 59969952-61382565 failed with response_code=0\n",
      "ERROR 1: Request for 59828210-61239651 failed with response_code=0\n",
      "ERROR 1: Request for 61159885-62599917 failed with response_code=0\n",
      "ERROR 1: _TIFFPartialReadStripArray:Cannot read offset/size for strile around ~184\n",
      "ERROR 1: _TIFFPartialReadStripArray:Cannot read offset/size for strile around ~184\n",
      "ERROR 1: _TIFFPartialReadStripArray:Cannot read offset/size for strile around ~184\n",
      "ERROR 1: _TIFFPartialReadStripArray:Cannot read offset/size for strile around ~184\n"
     ]
    },
    {
     "data": {
      "application/javascript": "/* Put everything inside the global mpl namespace */\n/* global mpl */\nwindow.mpl = {};\n\nmpl.get_websocket_type = function () {\n    if (typeof WebSocket !== 'undefined') {\n        return WebSocket;\n    } else if (typeof MozWebSocket !== 'undefined') {\n        return MozWebSocket;\n    } else {\n        alert(\n            'Your browser does not have WebSocket support. ' +\n                'Please try Chrome, Safari or Firefox ≥ 6. ' +\n                'Firefox 4 and 5 are also supported but you ' +\n                'have to enable WebSockets in about:config.'\n        );\n    }\n};\n\nmpl.figure = function (figure_id, websocket, ondownload, parent_element) {\n    this.id = figure_id;\n\n    this.ws = websocket;\n\n    this.supports_binary = this.ws.binaryType !== undefined;\n\n    if (!this.supports_binary) {\n        var warnings = document.getElementById('mpl-warnings');\n        if (warnings) {\n            warnings.style.display = 'block';\n            warnings.textContent =\n                'This browser does not support binary websocket messages. ' +\n                'Performance may be slow.';\n        }\n    }\n\n    this.imageObj = new Image();\n\n    this.context = undefined;\n    this.message = undefined;\n    this.canvas = undefined;\n    this.rubberband_canvas = undefined;\n    this.rubberband_context = undefined;\n    this.format_dropdown = undefined;\n\n    this.image_mode = 'full';\n\n    this.root = document.createElement('div');\n    this.root.setAttribute('style', 'display: inline-block');\n    this._root_extra_style(this.root);\n\n    parent_element.appendChild(this.root);\n\n    this._init_header(this);\n    this._init_canvas(this);\n    this._init_toolbar(this);\n\n    var fig = this;\n\n    this.waiting = false;\n\n    this.ws.onopen = function () {\n        fig.send_message('supports_binary', { value: fig.supports_binary });\n        fig.send_message('send_image_mode', {});\n        if (fig.ratio !== 1) {\n            fig.send_message('set_device_pixel_ratio', {\n                device_pixel_ratio: fig.ratio,\n            });\n        }\n        fig.send_message('refresh', {});\n    };\n\n    this.imageObj.onload = function () {\n        if (fig.image_mode === 'full') {\n            // Full images could contain transparency (where diff images\n            // almost always do), so we need to clear the canvas so that\n            // there is no ghosting.\n            fig.context.clearRect(0, 0, fig.canvas.width, fig.canvas.height);\n        }\n        fig.context.drawImage(fig.imageObj, 0, 0);\n    };\n\n    this.imageObj.onunload = function () {\n        fig.ws.close();\n    };\n\n    this.ws.onmessage = this._make_on_message_function(this);\n\n    this.ondownload = ondownload;\n};\n\nmpl.figure.prototype._init_header = function () {\n    var titlebar = document.createElement('div');\n    titlebar.classList =\n        'ui-dialog-titlebar ui-widget-header ui-corner-all ui-helper-clearfix';\n    var titletext = document.createElement('div');\n    titletext.classList = 'ui-dialog-title';\n    titletext.setAttribute(\n        'style',\n        'width: 100%; text-align: center; padding: 3px;'\n    );\n    titlebar.appendChild(titletext);\n    this.root.appendChild(titlebar);\n    this.header = titletext;\n};\n\nmpl.figure.prototype._canvas_extra_style = function (_canvas_div) {};\n\nmpl.figure.prototype._root_extra_style = function (_canvas_div) {};\n\nmpl.figure.prototype._init_canvas = function () {\n    var fig = this;\n\n    var canvas_div = (this.canvas_div = document.createElement('div'));\n    canvas_div.setAttribute('tabindex', '0');\n    canvas_div.setAttribute(\n        'style',\n        'border: 1px solid #ddd;' +\n            'box-sizing: content-box;' +\n            'clear: both;' +\n            'min-height: 1px;' +\n            'min-width: 1px;' +\n            'outline: 0;' +\n            'overflow: hidden;' +\n            'position: relative;' +\n            'resize: both;' +\n            'z-index: 2;'\n    );\n\n    function on_keyboard_event_closure(name) {\n        return function (event) {\n            return fig.key_event(event, name);\n        };\n    }\n\n    canvas_div.addEventListener(\n        'keydown',\n        on_keyboard_event_closure('key_press')\n    );\n    canvas_div.addEventListener(\n        'keyup',\n        on_keyboard_event_closure('key_release')\n    );\n\n    this._canvas_extra_style(canvas_div);\n    this.root.appendChild(canvas_div);\n\n    var canvas = (this.canvas = document.createElement('canvas'));\n    canvas.classList.add('mpl-canvas');\n    canvas.setAttribute(\n        'style',\n        'box-sizing: content-box;' +\n            'pointer-events: none;' +\n            'position: relative;' +\n            'z-index: 0;'\n    );\n\n    this.context = canvas.getContext('2d');\n\n    var backingStore =\n        this.context.backingStorePixelRatio ||\n        this.context.webkitBackingStorePixelRatio ||\n        this.context.mozBackingStorePixelRatio ||\n        this.context.msBackingStorePixelRatio ||\n        this.context.oBackingStorePixelRatio ||\n        this.context.backingStorePixelRatio ||\n        1;\n\n    this.ratio = (window.devicePixelRatio || 1) / backingStore;\n\n    var rubberband_canvas = (this.rubberband_canvas = document.createElement(\n        'canvas'\n    ));\n    rubberband_canvas.setAttribute(\n        'style',\n        'box-sizing: content-box;' +\n            'left: 0;' +\n            'pointer-events: none;' +\n            'position: absolute;' +\n            'top: 0;' +\n            'z-index: 1;'\n    );\n\n    // Apply a ponyfill if ResizeObserver is not implemented by browser.\n    if (this.ResizeObserver === undefined) {\n        if (window.ResizeObserver !== undefined) {\n            this.ResizeObserver = window.ResizeObserver;\n        } else {\n            var obs = _JSXTOOLS_RESIZE_OBSERVER({});\n            this.ResizeObserver = obs.ResizeObserver;\n        }\n    }\n\n    this.resizeObserverInstance = new this.ResizeObserver(function (entries) {\n        var nentries = entries.length;\n        for (var i = 0; i < nentries; i++) {\n            var entry = entries[i];\n            var width, height;\n            if (entry.contentBoxSize) {\n                if (entry.contentBoxSize instanceof Array) {\n                    // Chrome 84 implements new version of spec.\n                    width = entry.contentBoxSize[0].inlineSize;\n                    height = entry.contentBoxSize[0].blockSize;\n                } else {\n                    // Firefox implements old version of spec.\n                    width = entry.contentBoxSize.inlineSize;\n                    height = entry.contentBoxSize.blockSize;\n                }\n            } else {\n                // Chrome <84 implements even older version of spec.\n                width = entry.contentRect.width;\n                height = entry.contentRect.height;\n            }\n\n            // Keep the size of the canvas and rubber band canvas in sync with\n            // the canvas container.\n            if (entry.devicePixelContentBoxSize) {\n                // Chrome 84 implements new version of spec.\n                canvas.setAttribute(\n                    'width',\n                    entry.devicePixelContentBoxSize[0].inlineSize\n                );\n                canvas.setAttribute(\n                    'height',\n                    entry.devicePixelContentBoxSize[0].blockSize\n                );\n            } else {\n                canvas.setAttribute('width', width * fig.ratio);\n                canvas.setAttribute('height', height * fig.ratio);\n            }\n            /* This rescales the canvas back to display pixels, so that it\n             * appears correct on HiDPI screens. */\n            canvas.style.width = width + 'px';\n            canvas.style.height = height + 'px';\n\n            rubberband_canvas.setAttribute('width', width);\n            rubberband_canvas.setAttribute('height', height);\n\n            // And update the size in Python. We ignore the initial 0/0 size\n            // that occurs as the element is placed into the DOM, which should\n            // otherwise not happen due to the minimum size styling.\n            if (fig.ws.readyState == 1 && width != 0 && height != 0) {\n                fig.request_resize(width, height);\n            }\n        }\n    });\n    this.resizeObserverInstance.observe(canvas_div);\n\n    function on_mouse_event_closure(name) {\n        /* User Agent sniffing is bad, but WebKit is busted:\n         * https://bugs.webkit.org/show_bug.cgi?id=144526\n         * https://bugs.webkit.org/show_bug.cgi?id=181818\n         * The worst that happens here is that they get an extra browser\n         * selection when dragging, if this check fails to catch them.\n         */\n        var UA = navigator.userAgent;\n        var isWebKit = /AppleWebKit/.test(UA) && !/Chrome/.test(UA);\n        if(isWebKit) {\n            return function (event) {\n                /* This prevents the web browser from automatically changing to\n                 * the text insertion cursor when the button is pressed. We\n                 * want to control all of the cursor setting manually through\n                 * the 'cursor' event from matplotlib */\n                event.preventDefault()\n                return fig.mouse_event(event, name);\n            };\n        } else {\n            return function (event) {\n                return fig.mouse_event(event, name);\n            };\n        }\n    }\n\n    canvas_div.addEventListener(\n        'mousedown',\n        on_mouse_event_closure('button_press')\n    );\n    canvas_div.addEventListener(\n        'mouseup',\n        on_mouse_event_closure('button_release')\n    );\n    canvas_div.addEventListener(\n        'dblclick',\n        on_mouse_event_closure('dblclick')\n    );\n    // Throttle sequential mouse events to 1 every 20ms.\n    canvas_div.addEventListener(\n        'mousemove',\n        on_mouse_event_closure('motion_notify')\n    );\n\n    canvas_div.addEventListener(\n        'mouseenter',\n        on_mouse_event_closure('figure_enter')\n    );\n    canvas_div.addEventListener(\n        'mouseleave',\n        on_mouse_event_closure('figure_leave')\n    );\n\n    canvas_div.addEventListener('wheel', function (event) {\n        if (event.deltaY < 0) {\n            event.step = 1;\n        } else {\n            event.step = -1;\n        }\n        on_mouse_event_closure('scroll')(event);\n    });\n\n    canvas_div.appendChild(canvas);\n    canvas_div.appendChild(rubberband_canvas);\n\n    this.rubberband_context = rubberband_canvas.getContext('2d');\n    this.rubberband_context.strokeStyle = '#000000';\n\n    this._resize_canvas = function (width, height, forward) {\n        if (forward) {\n            canvas_div.style.width = width + 'px';\n            canvas_div.style.height = height + 'px';\n        }\n    };\n\n    // Disable right mouse context menu.\n    canvas_div.addEventListener('contextmenu', function (_e) {\n        event.preventDefault();\n        return false;\n    });\n\n    function set_focus() {\n        canvas.focus();\n        canvas_div.focus();\n    }\n\n    window.setTimeout(set_focus, 100);\n};\n\nmpl.figure.prototype._init_toolbar = function () {\n    var fig = this;\n\n    var toolbar = document.createElement('div');\n    toolbar.classList = 'mpl-toolbar';\n    this.root.appendChild(toolbar);\n\n    function on_click_closure(name) {\n        return function (_event) {\n            return fig.toolbar_button_onclick(name);\n        };\n    }\n\n    function on_mouseover_closure(tooltip) {\n        return function (event) {\n            if (!event.currentTarget.disabled) {\n                return fig.toolbar_button_onmouseover(tooltip);\n            }\n        };\n    }\n\n    fig.buttons = {};\n    var buttonGroup = document.createElement('div');\n    buttonGroup.classList = 'mpl-button-group';\n    for (var toolbar_ind in mpl.toolbar_items) {\n        var name = mpl.toolbar_items[toolbar_ind][0];\n        var tooltip = mpl.toolbar_items[toolbar_ind][1];\n        var image = mpl.toolbar_items[toolbar_ind][2];\n        var method_name = mpl.toolbar_items[toolbar_ind][3];\n\n        if (!name) {\n            /* Instead of a spacer, we start a new button group. */\n            if (buttonGroup.hasChildNodes()) {\n                toolbar.appendChild(buttonGroup);\n            }\n            buttonGroup = document.createElement('div');\n            buttonGroup.classList = 'mpl-button-group';\n            continue;\n        }\n\n        var button = (fig.buttons[name] = document.createElement('button'));\n        button.classList = 'mpl-widget';\n        button.setAttribute('role', 'button');\n        button.setAttribute('aria-disabled', 'false');\n        button.addEventListener('click', on_click_closure(method_name));\n        button.addEventListener('mouseover', on_mouseover_closure(tooltip));\n\n        var icon_img = document.createElement('img');\n        icon_img.src = '_images/' + image + '.png';\n        icon_img.srcset = '_images/' + image + '_large.png 2x';\n        icon_img.alt = tooltip;\n        button.appendChild(icon_img);\n\n        buttonGroup.appendChild(button);\n    }\n\n    if (buttonGroup.hasChildNodes()) {\n        toolbar.appendChild(buttonGroup);\n    }\n\n    var fmt_picker = document.createElement('select');\n    fmt_picker.classList = 'mpl-widget';\n    toolbar.appendChild(fmt_picker);\n    this.format_dropdown = fmt_picker;\n\n    for (var ind in mpl.extensions) {\n        var fmt = mpl.extensions[ind];\n        var option = document.createElement('option');\n        option.selected = fmt === mpl.default_extension;\n        option.innerHTML = fmt;\n        fmt_picker.appendChild(option);\n    }\n\n    var status_bar = document.createElement('span');\n    status_bar.classList = 'mpl-message';\n    toolbar.appendChild(status_bar);\n    this.message = status_bar;\n};\n\nmpl.figure.prototype.request_resize = function (x_pixels, y_pixels) {\n    // Request matplotlib to resize the figure. Matplotlib will then trigger a resize in the client,\n    // which will in turn request a refresh of the image.\n    this.send_message('resize', { width: x_pixels, height: y_pixels });\n};\n\nmpl.figure.prototype.send_message = function (type, properties) {\n    properties['type'] = type;\n    properties['figure_id'] = this.id;\n    this.ws.send(JSON.stringify(properties));\n};\n\nmpl.figure.prototype.send_draw_message = function () {\n    if (!this.waiting) {\n        this.waiting = true;\n        this.ws.send(JSON.stringify({ type: 'draw', figure_id: this.id }));\n    }\n};\n\nmpl.figure.prototype.handle_save = function (fig, _msg) {\n    var format_dropdown = fig.format_dropdown;\n    var format = format_dropdown.options[format_dropdown.selectedIndex].value;\n    fig.ondownload(fig, format);\n};\n\nmpl.figure.prototype.handle_resize = function (fig, msg) {\n    var size = msg['size'];\n    if (size[0] !== fig.canvas.width || size[1] !== fig.canvas.height) {\n        fig._resize_canvas(size[0], size[1], msg['forward']);\n        fig.send_message('refresh', {});\n    }\n};\n\nmpl.figure.prototype.handle_rubberband = function (fig, msg) {\n    var x0 = msg['x0'] / fig.ratio;\n    var y0 = (fig.canvas.height - msg['y0']) / fig.ratio;\n    var x1 = msg['x1'] / fig.ratio;\n    var y1 = (fig.canvas.height - msg['y1']) / fig.ratio;\n    x0 = Math.floor(x0) + 0.5;\n    y0 = Math.floor(y0) + 0.5;\n    x1 = Math.floor(x1) + 0.5;\n    y1 = Math.floor(y1) + 0.5;\n    var min_x = Math.min(x0, x1);\n    var min_y = Math.min(y0, y1);\n    var width = Math.abs(x1 - x0);\n    var height = Math.abs(y1 - y0);\n\n    fig.rubberband_context.clearRect(\n        0,\n        0,\n        fig.canvas.width / fig.ratio,\n        fig.canvas.height / fig.ratio\n    );\n\n    fig.rubberband_context.strokeRect(min_x, min_y, width, height);\n};\n\nmpl.figure.prototype.handle_figure_label = function (fig, msg) {\n    // Updates the figure title.\n    fig.header.textContent = msg['label'];\n};\n\nmpl.figure.prototype.handle_cursor = function (fig, msg) {\n    fig.canvas_div.style.cursor = msg['cursor'];\n};\n\nmpl.figure.prototype.handle_message = function (fig, msg) {\n    fig.message.textContent = msg['message'];\n};\n\nmpl.figure.prototype.handle_draw = function (fig, _msg) {\n    // Request the server to send over a new figure.\n    fig.send_draw_message();\n};\n\nmpl.figure.prototype.handle_image_mode = function (fig, msg) {\n    fig.image_mode = msg['mode'];\n};\n\nmpl.figure.prototype.handle_history_buttons = function (fig, msg) {\n    for (var key in msg) {\n        if (!(key in fig.buttons)) {\n            continue;\n        }\n        fig.buttons[key].disabled = !msg[key];\n        fig.buttons[key].setAttribute('aria-disabled', !msg[key]);\n    }\n};\n\nmpl.figure.prototype.handle_navigate_mode = function (fig, msg) {\n    if (msg['mode'] === 'PAN') {\n        fig.buttons['Pan'].classList.add('active');\n        fig.buttons['Zoom'].classList.remove('active');\n    } else if (msg['mode'] === 'ZOOM') {\n        fig.buttons['Pan'].classList.remove('active');\n        fig.buttons['Zoom'].classList.add('active');\n    } else {\n        fig.buttons['Pan'].classList.remove('active');\n        fig.buttons['Zoom'].classList.remove('active');\n    }\n};\n\nmpl.figure.prototype.updated_canvas_event = function () {\n    // Called whenever the canvas gets updated.\n    this.send_message('ack', {});\n};\n\n// A function to construct a web socket function for onmessage handling.\n// Called in the figure constructor.\nmpl.figure.prototype._make_on_message_function = function (fig) {\n    return function socket_on_message(evt) {\n        if (evt.data instanceof Blob) {\n            var img = evt.data;\n            if (img.type !== 'image/png') {\n                /* FIXME: We get \"Resource interpreted as Image but\n                 * transferred with MIME type text/plain:\" errors on\n                 * Chrome.  But how to set the MIME type?  It doesn't seem\n                 * to be part of the websocket stream */\n                img.type = 'image/png';\n            }\n\n            /* Free the memory for the previous frames */\n            if (fig.imageObj.src) {\n                (window.URL || window.webkitURL).revokeObjectURL(\n                    fig.imageObj.src\n                );\n            }\n\n            fig.imageObj.src = (window.URL || window.webkitURL).createObjectURL(\n                img\n            );\n            fig.updated_canvas_event();\n            fig.waiting = false;\n            return;\n        } else if (\n            typeof evt.data === 'string' &&\n            evt.data.slice(0, 21) === 'data:image/png;base64'\n        ) {\n            fig.imageObj.src = evt.data;\n            fig.updated_canvas_event();\n            fig.waiting = false;\n            return;\n        }\n\n        var msg = JSON.parse(evt.data);\n        var msg_type = msg['type'];\n\n        // Call the  \"handle_{type}\" callback, which takes\n        // the figure and JSON message as its only arguments.\n        try {\n            var callback = fig['handle_' + msg_type];\n        } catch (e) {\n            console.log(\n                \"No handler for the '\" + msg_type + \"' message type: \",\n                msg\n            );\n            return;\n        }\n\n        if (callback) {\n            try {\n                // console.log(\"Handling '\" + msg_type + \"' message: \", msg);\n                callback(fig, msg);\n            } catch (e) {\n                console.log(\n                    \"Exception inside the 'handler_\" + msg_type + \"' callback:\",\n                    e,\n                    e.stack,\n                    msg\n                );\n            }\n        }\n    };\n};\n\nfunction getModifiers(event) {\n    var mods = [];\n    if (event.ctrlKey) {\n        mods.push('ctrl');\n    }\n    if (event.altKey) {\n        mods.push('alt');\n    }\n    if (event.shiftKey) {\n        mods.push('shift');\n    }\n    if (event.metaKey) {\n        mods.push('meta');\n    }\n    return mods;\n}\n\n/*\n * return a copy of an object with only non-object keys\n * we need this to avoid circular references\n * https://stackoverflow.com/a/24161582/3208463\n */\nfunction simpleKeys(original) {\n    return Object.keys(original).reduce(function (obj, key) {\n        if (typeof original[key] !== 'object') {\n            obj[key] = original[key];\n        }\n        return obj;\n    }, {});\n}\n\nmpl.figure.prototype.mouse_event = function (event, name) {\n    if (name === 'button_press') {\n        this.canvas.focus();\n        this.canvas_div.focus();\n    }\n\n    // from https://stackoverflow.com/q/1114465\n    var boundingRect = this.canvas.getBoundingClientRect();\n    var x = (event.clientX - boundingRect.left) * this.ratio;\n    var y = (event.clientY - boundingRect.top) * this.ratio;\n\n    this.send_message(name, {\n        x: x,\n        y: y,\n        button: event.button,\n        step: event.step,\n        modifiers: getModifiers(event),\n        guiEvent: simpleKeys(event),\n    });\n\n    return false;\n};\n\nmpl.figure.prototype._key_event_extra = function (_event, _name) {\n    // Handle any extra behaviour associated with a key event\n};\n\nmpl.figure.prototype.key_event = function (event, name) {\n    // Prevent repeat events\n    if (name === 'key_press') {\n        if (event.key === this._key) {\n            return;\n        } else {\n            this._key = event.key;\n        }\n    }\n    if (name === 'key_release') {\n        this._key = null;\n    }\n\n    var value = '';\n    if (event.ctrlKey && event.key !== 'Control') {\n        value += 'ctrl+';\n    }\n    else if (event.altKey && event.key !== 'Alt') {\n        value += 'alt+';\n    }\n    else if (event.shiftKey && event.key !== 'Shift') {\n        value += 'shift+';\n    }\n\n    value += 'k' + event.key;\n\n    this._key_event_extra(event, name);\n\n    this.send_message(name, { key: value, guiEvent: simpleKeys(event) });\n    return false;\n};\n\nmpl.figure.prototype.toolbar_button_onclick = function (name) {\n    if (name === 'download') {\n        this.handle_save(this, null);\n    } else {\n        this.send_message('toolbar_button', { name: name });\n    }\n};\n\nmpl.figure.prototype.toolbar_button_onmouseover = function (tooltip) {\n    this.message.textContent = tooltip;\n};\n\n///////////////// REMAINING CONTENT GENERATED BY embed_js.py /////////////////\n// prettier-ignore\nvar _JSXTOOLS_RESIZE_OBSERVER=function(A){var t,i=new WeakMap,n=new WeakMap,a=new WeakMap,r=new WeakMap,o=new Set;function s(e){if(!(this instanceof s))throw new TypeError(\"Constructor requires 'new' operator\");i.set(this,e)}function h(){throw new TypeError(\"Function is not a constructor\")}function c(e,t,i,n){e=0 in arguments?Number(arguments[0]):0,t=1 in arguments?Number(arguments[1]):0,i=2 in arguments?Number(arguments[2]):0,n=3 in arguments?Number(arguments[3]):0,this.right=(this.x=this.left=e)+(this.width=i),this.bottom=(this.y=this.top=t)+(this.height=n),Object.freeze(this)}function d(){t=requestAnimationFrame(d);var s=new WeakMap,p=new Set;o.forEach((function(t){r.get(t).forEach((function(i){var r=t instanceof window.SVGElement,o=a.get(t),d=r?0:parseFloat(o.paddingTop),f=r?0:parseFloat(o.paddingRight),l=r?0:parseFloat(o.paddingBottom),u=r?0:parseFloat(o.paddingLeft),g=r?0:parseFloat(o.borderTopWidth),m=r?0:parseFloat(o.borderRightWidth),w=r?0:parseFloat(o.borderBottomWidth),b=u+f,F=d+l,v=(r?0:parseFloat(o.borderLeftWidth))+m,W=g+w,y=r?0:t.offsetHeight-W-t.clientHeight,E=r?0:t.offsetWidth-v-t.clientWidth,R=b+v,z=F+W,M=r?t.width:parseFloat(o.width)-R-E,O=r?t.height:parseFloat(o.height)-z-y;if(n.has(t)){var k=n.get(t);if(k[0]===M&&k[1]===O)return}n.set(t,[M,O]);var S=Object.create(h.prototype);S.target=t,S.contentRect=new c(u,d,M,O),s.has(i)||(s.set(i,[]),p.add(i)),s.get(i).push(S)}))})),p.forEach((function(e){i.get(e).call(e,s.get(e),e)}))}return s.prototype.observe=function(i){if(i instanceof window.Element){r.has(i)||(r.set(i,new Set),o.add(i),a.set(i,window.getComputedStyle(i)));var n=r.get(i);n.has(this)||n.add(this),cancelAnimationFrame(t),t=requestAnimationFrame(d)}},s.prototype.unobserve=function(i){if(i instanceof window.Element&&r.has(i)){var n=r.get(i);n.has(this)&&(n.delete(this),n.size||(r.delete(i),o.delete(i))),n.size||r.delete(i),o.size||cancelAnimationFrame(t)}},A.DOMRectReadOnly=c,A.ResizeObserver=s,A.ResizeObserverEntry=h,A}; // eslint-disable-line\nmpl.toolbar_items = [[\"Home\", \"Reset original view\", \"fa fa-home\", \"home\"], [\"Back\", \"Back to previous view\", \"fa fa-arrow-left\", \"back\"], [\"Forward\", \"Forward to next view\", \"fa fa-arrow-right\", \"forward\"], [\"\", \"\", \"\", \"\"], [\"Pan\", \"Left button pans, Right button zooms\\nx/y fixes axis, CTRL fixes aspect\", \"fa fa-arrows\", \"pan\"], [\"Zoom\", \"Zoom to rectangle\\nx/y fixes axis\", \"fa fa-square-o\", \"zoom\"], [\"\", \"\", \"\", \"\"], [\"Download\", \"Download plot\", \"fa fa-floppy-o\", \"download\"]];\n\nmpl.extensions = [\"eps\", \"jpeg\", \"pgf\", \"pdf\", \"png\", \"ps\", \"raw\", \"svg\", \"tif\", \"webp\"];\n\nmpl.default_extension = \"png\";/* global mpl */\n\nvar comm_websocket_adapter = function (comm) {\n    // Create a \"websocket\"-like object which calls the given IPython comm\n    // object with the appropriate methods. Currently this is a non binary\n    // socket, so there is still some room for performance tuning.\n    var ws = {};\n\n    ws.binaryType = comm.kernel.ws.binaryType;\n    ws.readyState = comm.kernel.ws.readyState;\n    function updateReadyState(_event) {\n        if (comm.kernel.ws) {\n            ws.readyState = comm.kernel.ws.readyState;\n        } else {\n            ws.readyState = 3; // Closed state.\n        }\n    }\n    comm.kernel.ws.addEventListener('open', updateReadyState);\n    comm.kernel.ws.addEventListener('close', updateReadyState);\n    comm.kernel.ws.addEventListener('error', updateReadyState);\n\n    ws.close = function () {\n        comm.close();\n    };\n    ws.send = function (m) {\n        //console.log('sending', m);\n        comm.send(m);\n    };\n    // Register the callback with on_msg.\n    comm.on_msg(function (msg) {\n        //console.log('receiving', msg['content']['data'], msg);\n        var data = msg['content']['data'];\n        if (data['blob'] !== undefined) {\n            data = {\n                data: new Blob(msg['buffers'], { type: data['blob'] }),\n            };\n        }\n        // Pass the mpl event to the overridden (by mpl) onmessage function.\n        ws.onmessage(data);\n    });\n    return ws;\n};\n\nmpl.mpl_figure_comm = function (comm, msg) {\n    // This is the function which gets called when the mpl process\n    // starts-up an IPython Comm through the \"matplotlib\" channel.\n\n    var id = msg.content.data.id;\n    // Get hold of the div created by the display call when the Comm\n    // socket was opened in Python.\n    var element = document.getElementById(id);\n    var ws_proxy = comm_websocket_adapter(comm);\n\n    function ondownload(figure, _format) {\n        window.open(figure.canvas.toDataURL());\n    }\n\n    var fig = new mpl.figure(id, ws_proxy, ondownload, element);\n\n    // Call onopen now - mpl needs it, as it is assuming we've passed it a real\n    // web socket which is closed, not our websocket->open comm proxy.\n    ws_proxy.onopen();\n\n    fig.parent_element = element;\n    fig.cell_info = mpl.find_output_cell(\"<div id='\" + id + \"'></div>\");\n    if (!fig.cell_info) {\n        console.error('Failed to find cell for figure', id, fig);\n        return;\n    }\n    fig.cell_info[0].output_area.element.on(\n        'cleared',\n        { fig: fig },\n        fig._remove_fig_handler\n    );\n};\n\nmpl.figure.prototype.handle_close = function (fig, msg) {\n    var width = fig.canvas.width / fig.ratio;\n    fig.cell_info[0].output_area.element.off(\n        'cleared',\n        fig._remove_fig_handler\n    );\n    fig.resizeObserverInstance.unobserve(fig.canvas_div);\n\n    // Update the output cell to use the data from the current canvas.\n    fig.push_to_output();\n    var dataURL = fig.canvas.toDataURL();\n    // Re-enable the keyboard manager in IPython - without this line, in FF,\n    // the notebook keyboard shortcuts fail.\n    IPython.keyboard_manager.enable();\n    fig.parent_element.innerHTML =\n        '<img src=\"' + dataURL + '\" width=\"' + width + '\">';\n    fig.close_ws(fig, msg);\n};\n\nmpl.figure.prototype.close_ws = function (fig, msg) {\n    fig.send_message('closing', msg);\n    // fig.ws.close()\n};\n\nmpl.figure.prototype.push_to_output = function (_remove_interactive) {\n    // Turn the data on the canvas into data in the output cell.\n    var width = this.canvas.width / this.ratio;\n    var dataURL = this.canvas.toDataURL();\n    this.cell_info[1]['text/html'] =\n        '<img src=\"' + dataURL + '\" width=\"' + width + '\">';\n};\n\nmpl.figure.prototype.updated_canvas_event = function () {\n    // Tell IPython that the notebook contents must change.\n    IPython.notebook.set_dirty(true);\n    this.send_message('ack', {});\n    var fig = this;\n    // Wait a second, then push the new image to the DOM so\n    // that it is saved nicely (might be nice to debounce this).\n    setTimeout(function () {\n        fig.push_to_output();\n    }, 1000);\n};\n\nmpl.figure.prototype._init_toolbar = function () {\n    var fig = this;\n\n    var toolbar = document.createElement('div');\n    toolbar.classList = 'btn-toolbar';\n    this.root.appendChild(toolbar);\n\n    function on_click_closure(name) {\n        return function (_event) {\n            return fig.toolbar_button_onclick(name);\n        };\n    }\n\n    function on_mouseover_closure(tooltip) {\n        return function (event) {\n            if (!event.currentTarget.disabled) {\n                return fig.toolbar_button_onmouseover(tooltip);\n            }\n        };\n    }\n\n    fig.buttons = {};\n    var buttonGroup = document.createElement('div');\n    buttonGroup.classList = 'btn-group';\n    var button;\n    for (var toolbar_ind in mpl.toolbar_items) {\n        var name = mpl.toolbar_items[toolbar_ind][0];\n        var tooltip = mpl.toolbar_items[toolbar_ind][1];\n        var image = mpl.toolbar_items[toolbar_ind][2];\n        var method_name = mpl.toolbar_items[toolbar_ind][3];\n\n        if (!name) {\n            /* Instead of a spacer, we start a new button group. */\n            if (buttonGroup.hasChildNodes()) {\n                toolbar.appendChild(buttonGroup);\n            }\n            buttonGroup = document.createElement('div');\n            buttonGroup.classList = 'btn-group';\n            continue;\n        }\n\n        button = fig.buttons[name] = document.createElement('button');\n        button.classList = 'btn btn-default';\n        button.href = '#';\n        button.title = name;\n        button.innerHTML = '<i class=\"fa ' + image + ' fa-lg\"></i>';\n        button.addEventListener('click', on_click_closure(method_name));\n        button.addEventListener('mouseover', on_mouseover_closure(tooltip));\n        buttonGroup.appendChild(button);\n    }\n\n    if (buttonGroup.hasChildNodes()) {\n        toolbar.appendChild(buttonGroup);\n    }\n\n    // Add the status bar.\n    var status_bar = document.createElement('span');\n    status_bar.classList = 'mpl-message pull-right';\n    toolbar.appendChild(status_bar);\n    this.message = status_bar;\n\n    // Add the close button to the window.\n    var buttongrp = document.createElement('div');\n    buttongrp.classList = 'btn-group inline pull-right';\n    button = document.createElement('button');\n    button.classList = 'btn btn-mini btn-primary';\n    button.href = '#';\n    button.title = 'Stop Interaction';\n    button.innerHTML = '<i class=\"fa fa-power-off icon-remove icon-large\"></i>';\n    button.addEventListener('click', function (_evt) {\n        fig.handle_close(fig, {});\n    });\n    button.addEventListener(\n        'mouseover',\n        on_mouseover_closure('Stop Interaction')\n    );\n    buttongrp.appendChild(button);\n    var titlebar = this.root.querySelector('.ui-dialog-titlebar');\n    titlebar.insertBefore(buttongrp, titlebar.firstChild);\n};\n\nmpl.figure.prototype._remove_fig_handler = function (event) {\n    var fig = event.data.fig;\n    if (event.target !== this) {\n        // Ignore bubbled events from children.\n        return;\n    }\n    fig.close_ws(fig, {});\n};\n\nmpl.figure.prototype._root_extra_style = function (el) {\n    el.style.boxSizing = 'content-box'; // override notebook setting of border-box.\n};\n\nmpl.figure.prototype._canvas_extra_style = function (el) {\n    // this is important to make the div 'focusable\n    el.setAttribute('tabindex', 0);\n    // reach out to IPython and tell the keyboard manager to turn it's self\n    // off when our div gets focus\n\n    // location in version 3\n    if (IPython.notebook.keyboard_manager) {\n        IPython.notebook.keyboard_manager.register_events(el);\n    } else {\n        // location in version 2\n        IPython.keyboard_manager.register_events(el);\n    }\n};\n\nmpl.figure.prototype._key_event_extra = function (event, _name) {\n    // Check for shift+enter\n    if (event.shiftKey && event.which === 13) {\n        this.canvas_div.blur();\n        // select the cell after this one\n        var index = IPython.notebook.find_cell_index(this.cell_info[0]);\n        IPython.notebook.select(index + 1);\n    }\n};\n\nmpl.figure.prototype.handle_save = function (fig, _msg) {\n    fig.ondownload(fig, null);\n};\n\nmpl.find_output_cell = function (html_output) {\n    // Return the cell and output element which can be found *uniquely* in the notebook.\n    // Note - this is a bit hacky, but it is done because the \"notebook_saving.Notebook\"\n    // IPython event is triggered only after the cells have been serialised, which for\n    // our purposes (turning an active figure into a static one), is too late.\n    var cells = IPython.notebook.get_cells();\n    var ncells = cells.length;\n    for (var i = 0; i < ncells; i++) {\n        var cell = cells[i];\n        if (cell.cell_type === 'code') {\n            for (var j = 0; j < cell.output_area.outputs.length; j++) {\n                var data = cell.output_area.outputs[j];\n                if (data.data) {\n                    // IPython >= 3 moved mimebundle to data attribute of output\n                    data = data.data;\n                }\n                if (data['text/html'] === html_output) {\n                    return [cell, data, j];\n                }\n            }\n        }\n    }\n};\n\n// Register the function which deals with the matplotlib target/channel.\n// The kernel may be null if the page has been refreshed.\nif (IPython.notebook.kernel !== null) {\n    IPython.notebook.kernel.comm_manager.register_target(\n        'matplotlib',\n        mpl.mpl_figure_comm\n    );\n}\n",
      "text/plain": [
       "<IPython.core.display.Javascript object>"
      ]
     },
     "metadata": {},
     "output_type": "display_data"
    },
    {
     "data": {
      "text/html": [
       "<div id='4ca3d329-7442-4671-b005-3b707014a9e4'></div>"
      ],
      "text/plain": [
       "<IPython.core.display.HTML object>"
      ]
     },
     "metadata": {},
     "output_type": "display_data"
    }
   ],
   "source": [
    "ds_clip.plot(x='x', y='y', col='time', col_wrap=5);"
   ]
  },
  {
   "cell_type": "markdown",
   "id": "b9cd7536",
   "metadata": {},
   "source": [
    "## Plot a time series for the point location"
   ]
  },
  {
   "cell_type": "markdown",
   "id": "2e3510f3",
   "metadata": {},
   "source": [
    "With the same `DataArray`, we can extract the pixel values which intersect a point location. Let's use the same point location we used to search the STAC catalog and plot it."
   ]
  },
  {
   "cell_type": "code",
   "execution_count": null,
   "id": "2ae82823",
   "metadata": {
    "tags": []
   },
   "outputs": [],
   "source": [
    "centroid = poly_df.geometry[0].centroid\n",
    "set_x, set_y, pixtype = (centroid.x, centroid.y, 'Center Pixel') # change 'Center Pixel' for plot title\n",
    "\n",
    "ax = ds_clip.plot(x='x', y='y', col='time', col_wrap=5)\n",
    "ax.set_xlabels('Easting [m]')\n",
    "ax.set_ylabels('Northing [m]')\n",
    "# --------------------\n",
    "ax.map(lambda: plt.plot(set_x, set_y, markersize=20, marker=\".\", color=\"m\"))\n",
    "# --------------------\n",
    "\n",
    "# --------------------\n",
    "plt.show()\n",
    "plt.savefig('multi-image.png', bbox_inches='tight')\n",
    "\n",
    "ax = ds_clip.isel(band=0).sel(x=set_x, y=set_y, method='nearest', tolerance=20).plot(marker='o', c='m', figsize=(12,7))\n",
    "plt.title(f'time series for {pixtype} pixel')\n",
    "plt.grid(True)\n",
    "plt.ylabel('Fused LST [K]')\n",
    "plt.xticks(rotation=45)\n",
    "plt.show()\n",
    "plt.savefig('time-series.png', bbox_inches='tight')"
   ]
  },
  {
   "cell_type": "markdown",
   "id": "c34ba1c4",
   "metadata": {},
   "source": [
    "Similarly, we can reduce the area within the subsetting geometry to the mean value, and plot against the time series for the point location."
   ]
  },
  {
   "cell_type": "code",
   "execution_count": null,
   "id": "8b0b282e",
   "metadata": {
    "tags": []
   },
   "outputs": [],
   "source": [
    "ax = ds_clip.plot(x='x', y='y', col='time', col_wrap=5)\n",
    "ax.set_xlabels('Easting [m]')\n",
    "ax.set_ylabels('Northing [m]')\n",
    "ax.map(lambda: plt.plot(set_x, set_y, markersize=20, marker=\".\", color=\"m\"))\n",
    "plt.show()\n",
    "\n",
    "\n",
    "ax = ds_clip.isel(band=0).sel(x=set_x, y=set_y, method='nearest', tolerance=20).plot(linestyle='--', marker='o', c='m', label='Point location', figsize=(12,7))\n",
    "ax = ds_clip.isel(band=0).mean(dim=('x', 'y')).plot(linestyle='--', marker='o', c='b', label='Area mean')\n",
    "plt.title(f'time series for {pixtype} pixel')\n",
    "plt.legend()\n",
    "plt.grid(True)\n",
    "plt.ylabel('Fused LST [K]')\n",
    "plt.xticks(rotation=45)\n",
    "plt.show()"
   ]
  },
  {
   "cell_type": "markdown",
   "id": "9bc7d66a",
   "metadata": {},
   "source": [
    "## download a single file"
   ]
  },
  {
   "cell_type": "code",
   "execution_count": 44,
   "id": "08e742f8",
   "metadata": {},
   "outputs": [
    {
     "name": "stdout",
     "output_type": "stream",
     "text": [
      "./sharpened_15TVG_hires_lst_mosaic_screened_LC08_20200405_with_S2_15TVG_median_composite_20200405_screened.tif False\n",
      "./sharpened_15TVG_hires_lst_mosaic_screened_LC08_20200405_with_S2_15TVG_median_composite_20200405_screened.tif True\n"
     ]
    }
   ],
   "source": [
    "# find which file has the most data in it\n",
    "max_data_idx = np.argmax(ds_clip.count(dim=('x', 'y', 'band')).values)\n",
    "\n",
    "outfile = f'./{os.path.basename(res.item_desc[max_data_idx])}'\n",
    "print(outfile, os.path.exists(outfile))\n",
    "\n",
    "res.download_single_asset(max_data_idx)\n",
    "\n",
    "print(outfile, os.path.exists(outfile))"
   ]
  },
  {
   "cell_type": "markdown",
   "id": "0a0ac51a",
   "metadata": {},
   "source": [
    "## download multiple files, since there a few scenes that have full coverage for the AOI"
   ]
  },
  {
   "cell_type": "code",
   "execution_count": null,
   "id": "4e538562-c203-44a9-81c4-a6cf4d936add",
   "metadata": {},
   "outputs": [],
   "source": [
    "# download the items above which correspond to items 2,5,6, and 10\n",
    "# using the download_multiple_assets() function\n",
    "res.download_multiple_assets([2,5,6,10])"
   ]
  },
  {
   "cell_type": "markdown",
   "id": "37ef9056-610e-4cfc-930a-16df5575ba1e",
   "metadata": {},
   "source": [
    "## make an animation from the full set of data"
   ]
  },
  {
   "cell_type": "markdown",
   "id": "3131563c-cb10-4703-ab2b-81bbcbd9cbdf",
   "metadata": {},
   "source": [
    "If you see `Javascript Error: IPython is not defined` or `MovieWriter ffmpeg unavailable; using Pillow instead`, do not fret, and proceed."
   ]
  },
  {
   "cell_type": "code",
   "execution_count": 17,
   "id": "d048bb69-6730-4004-9fc7-3d45ef204a43",
   "metadata": {},
   "outputs": [],
   "source": [
    "from IPython.display import HTML\n",
    "\n",
    "# switch plotting to allow for animations\n",
    "%matplotlib notebook "
   ]
  },
  {
   "cell_type": "code",
   "execution_count": null,
   "id": "3acb549f",
   "metadata": {},
   "outputs": [],
   "source": [
    "# use the create_animation() function.\n",
    "# display the animation with HTML display\n",
    "\n",
    "ani = clipped.create_animation(save_ani=True, vmin=300, vmax=350)\n",
    "HTML(ani.to_jshtml())\n"
   ]
  },
  {
   "cell_type": "markdown",
   "id": "cd1940b7-7f23-4240-8253-70a4c00e5e56",
   "metadata": {},
   "source": [
    "### drop files with data less than 50% coverage\n",
    "Sometimes the data will have low coverage due to cloud cover or invalid pixels in the input data products. Let's remove them from the dataset using the `remove_below_data_perc()` function, plot them, and create an animation."
   ]
  },
  {
   "cell_type": "code",
   "execution_count": null,
   "id": "dfae535e-9a76-436b-9f0e-36bf30cc1dad",
   "metadata": {},
   "outputs": [],
   "source": [
    "# to switch back and allow xarray plots\n",
    "%matplotlib inline \n",
    "\n",
    "more_data = FH_StackedDataset(clipped.remove_below_data_perc(clipped.ds, 0.5))\n",
    "ax = more_data.ds.plot(x='x', y='y', col='time', col_wrap=5)\n",
    "ax.set_xlabels('Easting [m]')\n",
    "ax.set_ylabels('Northing [m]')\n",
    "#plt.show()\n",
    "clipped\n",
    "more_data"
   ]
  },
  {
   "attachments": {},
   "cell_type": "markdown",
   "id": "d30c4b02",
   "metadata": {},
   "source": [
    "### Now we will plot the time series using the filtered dataset. Filtered means each tile has atleast 50% valid pixels."
   ]
  },
  {
   "cell_type": "code",
   "execution_count": null,
   "id": "1057fdf6",
   "metadata": {},
   "outputs": [],
   "source": [
    "# Tyler's\n",
    "# Plot time series with the filter applied to the dataset.\n",
    "\n",
    "# Filtered LST data\n",
    "LST_filtered_ds = more_data.ds\n",
    "\n",
    "# Get hrrr data for plotting with lst.\n",
    "temp_2m_ds = hrrr.get_hrrr_point_data(lat, lon, start_date, 29)\n",
    "\n",
    "ax = LST_filtered_ds.isel(band=0).sel(x=set_x, y=set_y, method='nearest', tolerance=20).plot(label='LST', marker='o', c='m', figsize=(12,7))\n",
    "ax = temp_2m_ds.t2m.plot(label='2mT')\n",
    "\n",
    "plt.title(f'Fused LST and 2m HRRR Temperature {pixtype} pixel')\n",
    "plt.grid(True)\n",
    "plt.ylabel('Temperature [K]')\n",
    "plt.xlabel('Date')\n",
    "plt.xticks(rotation=45)\n",
    "plt.legend()\n",
    "plt.show()\n"
   ]
  },
  {
   "attachments": {},
   "cell_type": "markdown",
   "id": "611fbd83",
   "metadata": {},
   "source": [
    "### Next step is to calculate CATD.  We are going to create a datframe that will contain LST, air temp, and CATD.\n",
    "1. Create a dataframe for LST from the LST dataset.\n",
    "2. Get HRRR 2mT data and put it into a dataframe.\n",
    "3. Merge the two dataframes so we have everything in on df.\n",
    "4. Calculate CATD using the LST and 2mT df columns and create a new CATD column."
   ]
  },
  {
   "cell_type": "code",
   "execution_count": 129,
   "id": "46a2cca7",
   "metadata": {},
   "outputs": [
    {
     "data": {
      "text/plain": [
       "<Axes: xlabel='date'>"
      ]
     },
     "execution_count": 129,
     "metadata": {},
     "output_type": "execute_result"
    },
    {
     "data": {
      "image/png": "[encoded data removed]",
      "text/plain": [
       "<Figure size 640x480 with 1 Axes>"
      ]
     },
     "metadata": {},
     "output_type": "display_data"
    }
   ],
   "source": [
    "# Tyler's\n",
    "# Plot CATD time series (LST - 2mT)\n",
    "\n",
    "# Get a dataset of point LST and convert to dataframe for easier use.\n",
    "point_LST_ds = LST_filtered_ds.isel(band=0).sel(x=set_x, y=set_y, method='nearest', tolerance=20)\n",
    "point_lst_df = point_LST_ds.to_dataframe(name='fused_lst')\n",
    "# Cleanup the df and drop uneeded columns.\n",
    "point_lst_df.reset_index(inplace=True)\n",
    "point_lst_df.drop('spatial_ref', axis=1, inplace=True)\n",
    "# We need to be sure that our date and time formats are consistent.\n",
    "# Further, some of the fusion products have varying time.  Most are\n",
    "# 00z but some are something close to that but we need to the times\n",
    "# of the 2mT and LST to match so we can merge properly.  We'll convert to \n",
    "# just date and not worry about the cases where the time is not quite 00z.\n",
    "point_lst_df['date'] = pd.to_datetime(point_lst_df['time'].dt.date)\n",
    "\n",
    "# Get a dataset of point hrrr and convert to dataframe for easier use.\n",
    "temp_2m_df = temp_2m_ds.to_dataframe()\n",
    "# Clean up df and drop uneeded columns.\n",
    "drop_cols = ['point', 'metpy_crs', 'gribfile_projection', 'y', 'x']\n",
    "temp_2m_df.reset_index(inplace=True)\n",
    "temp_2m_df.drop(drop_cols, axis=1, inplace=True)\n",
    "temp_2m_df['date'] = pd.to_datetime(temp_2m_df['time'].dt.date)\n",
    "\n",
    "#print (point_lst_df, temp_2m_df)\n",
    "\n",
    "# Merge dataframes into one.\n",
    "lst_2mT_df = point_lst_df.merge(temp_2m_df, how='inner', on='date')\n",
    "lst_2mT_df\n",
    "\n",
    "# Calculate CATD (LST - 2mT) and stick into a new column.\n",
    "lst_2mT_df['catd'] = lst_2mT_df.fused_lst - lst_2mT_df.t2m\n",
    "lst_2mT_df.reset_index()\n",
    "#lst_2mT_df['date'] = pd.to_datetime(lst_2mT_df['time'].dt.date)\n",
    "masked = lst_2mT_df['fused_lst'] > 243\n",
    "\n",
    "lst_2mT_df[masked].plot(kind = 'line', x = 'date', y = 'catd')\n",
    "\n"
   ]
  },
  {
   "cell_type": "code",
   "execution_count": null,
   "id": "4bb9111f-c1fd-4a4d-bfe6-bc948f9d611d",
   "metadata": {},
   "outputs": [],
   "source": [
    " # switch back to allow animation\n",
    "%matplotlib notebook\n",
    "ani = more_data.create_animation(save_ani=True, vmin=300, vmax=350, anipath='more_data.gif')\n",
    "HTML(ani.to_jshtml())"
   ]
  },
  {
   "cell_type": "markdown",
   "id": "c55987c1-2564-40bc-bb48-8225f59deb33",
   "metadata": {},
   "source": [
    "You may notice that the animation plays with the most recent date in the data stack first, and then ascending. To reverse the order to descending from the last date in the dataset, use an `xarray` call to reverse the `time` dimension on the dataset."
   ]
  },
  {
   "cell_type": "code",
   "execution_count": null,
   "id": "36d2b702-1ac7-4b15-a65a-f576bf5463fd",
   "metadata": {},
   "outputs": [],
   "source": [
    "# reverse the order\n",
    "more_data_rev = FH_StackedDataset(more_data.ds.sortby('time', ascending=False))\n",
    "ani = more_data_rev.create_animation(save_ani=True, vmin=300, vmax=350, anipath='more_data_rev.gif')\n",
    "HTML(ani.to_jshtml())"
   ]
  },
  {
   "cell_type": "code",
   "execution_count": null,
   "id": "ff5712bf-565c-44d3-be9c-bd678f9171ab",
   "metadata": {},
   "outputs": [],
   "source": []
  }
 ],
 "metadata": {
  "execution": {
   "timeout": -1
  },
  "kernelspec": {
   "display_name": "Python 3",
   "language": "python",
   "name": "python3"
  },
  "language_info": {
   "codemirror_mode": {
    "name": "ipython",
    "version": 3
   },
   "file_extension": ".py",
   "mimetype": "text/x-python",
   "name": "python",
   "nbconvert_exporter": "python",
   "pygments_lexer": "ipython3",
   "version": "3.9.2"
  },
  "vscode": {
   "interpreter": {
    "hash": "aee8b7b246df8f9039afb4144a1f6fd8d2ca17a180786b69acc140d282b71a49"
   }
  }
 },
 "nbformat": 4,
 "nbformat_minor": 5
}
