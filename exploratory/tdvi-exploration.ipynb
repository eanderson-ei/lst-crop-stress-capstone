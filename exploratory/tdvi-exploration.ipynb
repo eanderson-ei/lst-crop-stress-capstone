{
 "cells": [
  {
   "cell_type": "code",
   "execution_count": 1,
   "metadata": {},
   "outputs": [],
   "source": [
    "import base64\n",
    "from datetime import datetime, timedelta\n",
    "import json\n",
    "import os\n",
    "import sys\n",
    "\n",
    "import geopandas as gpd\n",
    "import matplotlib.pyplot as plt\n",
    "import numpy as np\n",
    "import pandas as pd\n",
    "from pyproj.crs import CRS\n",
    "from pystac_client import Client\n",
    "import seaborn as sns\n",
    "from shapely.geometry import box, Point, Polygon\n",
    "\n",
    "module_path = os.path.abspath(os.path.join('..'))\n",
    "if module_path not in sys.path:\n",
    "    sys.path.append(module_path)\n",
    "from library import utils\n",
    "from FH_Hydrosat import FH_Hydrosat"
   ]
  },
  {
   "cell_type": "code",
   "execution_count": 2,
   "metadata": {},
   "outputs": [],
   "source": [
    "# Insitu point locations\n",
    "insitu_met_points = {\n",
    "    'Corn': [-121.5351, 38.1091],\n",
    "    'Alfalfa': [-121.4993, 38.0992]\n",
    "}\n",
    "\n",
    "# Center point of crop fields.\n",
    "crop_center_points = {\n",
    "    'Corn': [-121.5360, 38.1095],\n",
    "    'Alfalfa': [-121.5015, 38.0994],\n",
    "    'Ames': [-93.701, 42.000],\n",
    "}\n",
    "\n",
    "aoi_bbox = {\n",
    "    'Alfalfa': [-121.5365, 38.1098, -121.5355, 38.1091],\n",
    "    'Corn': [-121.5027, 38.0986, -121.5003, 38.1000]\n",
    "}"
   ]
  },
  {
   "cell_type": "code",
   "execution_count": 3,
   "metadata": {},
   "outputs": [],
   "source": [
    "# Define paths to data\n",
    "data_path = os.path.join('../data', 'Ameriflux')\n",
    "bi1_data_path = os.path.join(data_path, \n",
    "                             'US-Bi1_HH_201608130000_202301010000.csv')"
   ]
  },
  {
   "cell_type": "code",
   "execution_count": 4,
   "metadata": {},
   "outputs": [
    {
     "name": "stdout",
     "output_type": "stream",
     "text": [
      "Data range from 2016-08-13 00:00:00 to 2022-12-31 23:30:00\n"
     ]
    }
   ],
   "source": [
    "# Explore bi1 data\n",
    "bi1_df = utils.read_ameriflux(bi1_data_path)\n",
    "print(f'Data range from {bi1_df.index.min()} to {bi1_df.index.max()}')"
   ]
  },
  {
   "cell_type": "code",
   "execution_count": 5,
   "metadata": {},
   "outputs": [
    {
     "data": {
      "text/plain": [
       "<Axes: xlabel='NDVI', ylabel='TA'>"
      ]
     },
     "execution_count": 5,
     "metadata": {},
     "output_type": "execute_result"
    },
    {
     "data": {
      "image/png": "[encoded data removed]",
      "text/plain": [
       "<Figure size 640x480 with 1 Axes>"
      ]
     },
     "metadata": {},
     "output_type": "display_data"
    }
   ],
   "source": [
    "filt = (bi1_df.index > '05-01-2022') & (bi1_df.index < '05-06-2022') & (bi1_df['NDVI'] > 0.25) &  (bi1_df['NDVI'] < 0.75)\n",
    "sns.scatterplot(x=bi1_df.loc[filt, 'NDVI'], y=bi1_df.loc[filt, 'TA'])"
   ]
  },
  {
   "cell_type": "code",
   "execution_count": 6,
   "metadata": {},
   "outputs": [
    {
     "data": {
      "text/html": [
       "<div>\n",
       "<style scoped>\n",
       "    .dataframe tbody tr th:only-of-type {\n",
       "        vertical-align: middle;\n",
       "    }\n",
       "\n",
       "    .dataframe tbody tr th {\n",
       "        vertical-align: top;\n",
       "    }\n",
       "\n",
       "    .dataframe thead th {\n",
       "        text-align: right;\n",
       "    }\n",
       "</style>\n",
       "<table border=\"1\" class=\"dataframe\">\n",
       "  <thead>\n",
       "    <tr style=\"text-align: right;\">\n",
       "      <th></th>\n",
       "      <th>end</th>\n",
       "      <th>TIMESTAMP_START</th>\n",
       "      <th>TIMESTAMP_END</th>\n",
       "      <th>CO2</th>\n",
       "      <th>H2O</th>\n",
       "      <th>CH4</th>\n",
       "      <th>FC</th>\n",
       "      <th>FCH4</th>\n",
       "      <th>FC_SSITC_TEST</th>\n",
       "      <th>FCH4_SSITC_TEST</th>\n",
       "      <th>...</th>\n",
       "      <th>SPEC_RED_IN</th>\n",
       "      <th>SPEC_RED_OUT</th>\n",
       "      <th>SPEC_NIR_IN</th>\n",
       "      <th>SPEC_NIR_OUT</th>\n",
       "      <th>NDVI</th>\n",
       "      <th>SPEC_PRI_TGT_IN</th>\n",
       "      <th>SPEC_PRI_TGT_OUT</th>\n",
       "      <th>SPEC_PRI_REF_IN</th>\n",
       "      <th>SPEC_PRI_REF_OUT</th>\n",
       "      <th>PRI</th>\n",
       "    </tr>\n",
       "    <tr>\n",
       "      <th>start</th>\n",
       "      <th></th>\n",
       "      <th></th>\n",
       "      <th></th>\n",
       "      <th></th>\n",
       "      <th></th>\n",
       "      <th></th>\n",
       "      <th></th>\n",
       "      <th></th>\n",
       "      <th></th>\n",
       "      <th></th>\n",
       "      <th></th>\n",
       "      <th></th>\n",
       "      <th></th>\n",
       "      <th></th>\n",
       "      <th></th>\n",
       "      <th></th>\n",
       "      <th></th>\n",
       "      <th></th>\n",
       "      <th></th>\n",
       "      <th></th>\n",
       "      <th></th>\n",
       "    </tr>\n",
       "  </thead>\n",
       "  <tbody>\n",
       "    <tr>\n",
       "      <th>2016-08-13</th>\n",
       "      <td>2016-08-14</td>\n",
       "      <td>2.016081e+11</td>\n",
       "      <td>2.016081e+11</td>\n",
       "      <td>503.892362</td>\n",
       "      <td>18.026664</td>\n",
       "      <td>1973.609941</td>\n",
       "      <td>9.283736</td>\n",
       "      <td>15.760946</td>\n",
       "      <td>2.0</td>\n",
       "      <td>2.0</td>\n",
       "      <td>...</td>\n",
       "      <td>1.450</td>\n",
       "      <td>0.031</td>\n",
       "      <td>1.017</td>\n",
       "      <td>0.125</td>\n",
       "      <td>0.795323</td>\n",
       "      <td>1.565</td>\n",
       "      <td>0.039</td>\n",
       "      <td>1.461</td>\n",
       "      <td>0.040</td>\n",
       "      <td>0.143233</td>\n",
       "    </tr>\n",
       "    <tr>\n",
       "      <th>2016-08-14</th>\n",
       "      <td>2016-08-15</td>\n",
       "      <td>2.016081e+11</td>\n",
       "      <td>2.016082e+11</td>\n",
       "      <td>651.999119</td>\n",
       "      <td>17.307215</td>\n",
       "      <td>2061.187590</td>\n",
       "      <td>4.725085</td>\n",
       "      <td>5.570765</td>\n",
       "      <td>2.0</td>\n",
       "      <td>2.0</td>\n",
       "      <td>...</td>\n",
       "      <td>1.453</td>\n",
       "      <td>0.033</td>\n",
       "      <td>1.019</td>\n",
       "      <td>0.124</td>\n",
       "      <td>1.000000</td>\n",
       "      <td>1.573</td>\n",
       "      <td>0.038</td>\n",
       "      <td>1.460</td>\n",
       "      <td>0.040</td>\n",
       "      <td>0.082420</td>\n",
       "    </tr>\n",
       "    <tr>\n",
       "      <th>2016-08-15</th>\n",
       "      <td>2016-08-16</td>\n",
       "      <td>2.016082e+11</td>\n",
       "      <td>2.016082e+11</td>\n",
       "      <td>560.824478</td>\n",
       "      <td>15.798304</td>\n",
       "      <td>1949.485791</td>\n",
       "      <td>9.283892</td>\n",
       "      <td>11.837167</td>\n",
       "      <td>2.0</td>\n",
       "      <td>2.0</td>\n",
       "      <td>...</td>\n",
       "      <td>1.430</td>\n",
       "      <td>0.052</td>\n",
       "      <td>1.007</td>\n",
       "      <td>0.102</td>\n",
       "      <td>1.000000</td>\n",
       "      <td>1.554</td>\n",
       "      <td>0.048</td>\n",
       "      <td>1.434</td>\n",
       "      <td>0.051</td>\n",
       "      <td>0.004077</td>\n",
       "    </tr>\n",
       "    <tr>\n",
       "      <th>2016-08-16</th>\n",
       "      <td>2016-08-17</td>\n",
       "      <td>2.016082e+11</td>\n",
       "      <td>2.016082e+11</td>\n",
       "      <td>494.878409</td>\n",
       "      <td>15.266890</td>\n",
       "      <td>1950.278157</td>\n",
       "      <td>11.638915</td>\n",
       "      <td>10.836450</td>\n",
       "      <td>2.0</td>\n",
       "      <td>2.0</td>\n",
       "      <td>...</td>\n",
       "      <td>1.473</td>\n",
       "      <td>0.055</td>\n",
       "      <td>1.022</td>\n",
       "      <td>0.113</td>\n",
       "      <td>1.000000</td>\n",
       "      <td>1.648</td>\n",
       "      <td>0.053</td>\n",
       "      <td>1.473</td>\n",
       "      <td>0.057</td>\n",
       "      <td>-0.007312</td>\n",
       "    </tr>\n",
       "    <tr>\n",
       "      <th>2016-08-17</th>\n",
       "      <td>2016-08-18</td>\n",
       "      <td>2.016082e+11</td>\n",
       "      <td>2.016082e+11</td>\n",
       "      <td>510.193409</td>\n",
       "      <td>16.798386</td>\n",
       "      <td>2005.056536</td>\n",
       "      <td>8.150886</td>\n",
       "      <td>12.250472</td>\n",
       "      <td>2.0</td>\n",
       "      <td>2.0</td>\n",
       "      <td>...</td>\n",
       "      <td>1.464</td>\n",
       "      <td>0.054</td>\n",
       "      <td>1.020</td>\n",
       "      <td>0.101</td>\n",
       "      <td>0.625722</td>\n",
       "      <td>1.629</td>\n",
       "      <td>0.049</td>\n",
       "      <td>1.481</td>\n",
       "      <td>0.051</td>\n",
       "      <td>-0.011925</td>\n",
       "    </tr>\n",
       "  </tbody>\n",
       "</table>\n",
       "<p>5 rows × 71 columns</p>\n",
       "</div>"
      ],
      "text/plain": [
       "                  end  TIMESTAMP_START  TIMESTAMP_END         CO2        H2O   \n",
       "start                                                                          \n",
       "2016-08-13 2016-08-14     2.016081e+11   2.016081e+11  503.892362  18.026664  \\\n",
       "2016-08-14 2016-08-15     2.016081e+11   2.016082e+11  651.999119  17.307215   \n",
       "2016-08-15 2016-08-16     2.016082e+11   2.016082e+11  560.824478  15.798304   \n",
       "2016-08-16 2016-08-17     2.016082e+11   2.016082e+11  494.878409  15.266890   \n",
       "2016-08-17 2016-08-18     2.016082e+11   2.016082e+11  510.193409  16.798386   \n",
       "\n",
       "                    CH4         FC       FCH4  FC_SSITC_TEST  FCH4_SSITC_TEST   \n",
       "start                                                                           \n",
       "2016-08-13  1973.609941   9.283736  15.760946            2.0              2.0  \\\n",
       "2016-08-14  2061.187590   4.725085   5.570765            2.0              2.0   \n",
       "2016-08-15  1949.485791   9.283892  11.837167            2.0              2.0   \n",
       "2016-08-16  1950.278157  11.638915  10.836450            2.0              2.0   \n",
       "2016-08-17  2005.056536   8.150886  12.250472            2.0              2.0   \n",
       "\n",
       "            ...  SPEC_RED_IN  SPEC_RED_OUT  SPEC_NIR_IN  SPEC_NIR_OUT   \n",
       "start       ...                                                         \n",
       "2016-08-13  ...        1.450         0.031        1.017         0.125  \\\n",
       "2016-08-14  ...        1.453         0.033        1.019         0.124   \n",
       "2016-08-15  ...        1.430         0.052        1.007         0.102   \n",
       "2016-08-16  ...        1.473         0.055        1.022         0.113   \n",
       "2016-08-17  ...        1.464         0.054        1.020         0.101   \n",
       "\n",
       "                NDVI  SPEC_PRI_TGT_IN  SPEC_PRI_TGT_OUT  SPEC_PRI_REF_IN   \n",
       "start                                                                      \n",
       "2016-08-13  0.795323            1.565             0.039            1.461  \\\n",
       "2016-08-14  1.000000            1.573             0.038            1.460   \n",
       "2016-08-15  1.000000            1.554             0.048            1.434   \n",
       "2016-08-16  1.000000            1.648             0.053            1.473   \n",
       "2016-08-17  0.625722            1.629             0.049            1.481   \n",
       "\n",
       "            SPEC_PRI_REF_OUT       PRI  \n",
       "start                                   \n",
       "2016-08-13             0.040  0.143233  \n",
       "2016-08-14             0.040  0.082420  \n",
       "2016-08-15             0.051  0.004077  \n",
       "2016-08-16             0.057 -0.007312  \n",
       "2016-08-17             0.051 -0.011925  \n",
       "\n",
       "[5 rows x 71 columns]"
      ]
     },
     "execution_count": 6,
     "metadata": {},
     "output_type": "execute_result"
    }
   ],
   "source": [
    "bi1_df_max = bi1_df.resample('1D').max()\n",
    "bi1_df_max.head()"
   ]
  },
  {
   "cell_type": "code",
   "execution_count": 7,
   "metadata": {},
   "outputs": [
    {
     "data": {
      "text/plain": [
       "<Axes: xlabel='start', ylabel='NDVI'>"
      ]
     },
     "execution_count": 7,
     "metadata": {},
     "output_type": "execute_result"
    },
    {
     "data": {
      "image/png": "[encoded data removed]",
      "text/plain": [
       "<Figure size 640x480 with 1 Axes>"
      ]
     },
     "metadata": {},
     "output_type": "display_data"
    }
   ],
   "source": [
    "filt = (bi1_df_max.index > '04-30-2022') & (bi1_df_max.index < '08-31-2022') & (bi1_df_max['NDVI'] < 1)\n",
    "sns.scatterplot(bi1_df_max.loc[filt, 'NDVI'])"
   ]
  },
  {
   "cell_type": "code",
   "execution_count": 8,
   "metadata": {},
   "outputs": [
    {
     "data": {
      "text/plain": [
       "<Axes: xlabel='NDVI', ylabel='TA'>"
      ]
     },
     "execution_count": 8,
     "metadata": {},
     "output_type": "execute_result"
    },
    {
     "data": {
      "image/png": "[encoded data removed]",
      "text/plain": [
       "<Figure size 640x480 with 1 Axes>"
      ]
     },
     "metadata": {},
     "output_type": "display_data"
    }
   ],
   "source": [
    "sns.scatterplot(x=bi1_df_max.loc[filt, 'NDVI'], y=bi1_df_max.loc[filt, 'TA'])"
   ]
  },
  {
   "cell_type": "code",
   "execution_count": null,
   "metadata": {},
   "outputs": [],
   "source": []
  }
 ],
 "metadata": {
  "kernelspec": {
   "display_name": "ea-lst-alpha",
   "language": "python",
   "name": "python3"
  },
  "language_info": {
   "codemirror_mode": {
    "name": "ipython",
    "version": 3
   },
   "file_extension": ".py",
   "mimetype": "text/x-python",
   "name": "python",
   "nbconvert_exporter": "python",
   "pygments_lexer": "ipython3",
   "version": "3.11.3"
  },
  "orig_nbformat": 4
 },
 "nbformat": 4,
 "nbformat_minor": 2
}
