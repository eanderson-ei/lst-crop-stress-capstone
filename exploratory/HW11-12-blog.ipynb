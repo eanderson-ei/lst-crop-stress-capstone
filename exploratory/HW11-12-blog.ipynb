{
 "cells": [
  {
   "attachments": {},
   "cell_type": "markdown",
   "metadata": {},
   "source": [
    "## Title\n",
    "\n",
    "captures your project message and a potential reader (this title should clearly tell the reader know what the blog post is about)\n",
    "\n",
    "### Influence of Landsat pixel variability on the development of a high resolution LST product for monitoring crop stress."
   ]
  },
  {
   "attachments": {},
   "cell_type": "markdown",
   "metadata": {},
   "source": [
    "## Outline\n",
    "\n",
    "using markdown headers and catchy text that will capture a readers eye who is skimming your post"
   ]
  },
  {
   "cell_type": "markdown",
   "metadata": {},
   "source": []
  },
  {
   "cell_type": "code",
   "execution_count": null,
   "metadata": {},
   "outputs": [],
   "source": [
    "## Intro paragraph\n",
    "\n",
    "introduce your topic.\n",
    "\n",
    "spatial and temporal adaptive reflectance fusion\n",
    "model (STARFM) algorithm to blend Landsat and MODIS sur-\n",
    "face reflectance. \n",
    "\n",
    "Data Mining Approach for Sharpening Thermal Satellite\n",
    "Imagery over Land\n"
   ]
  },
  {
   "attachments": {},
   "cell_type": "markdown",
   "metadata": {},
   "source": [
    "## Visualizations\n",
    "\n",
    "- A study area map that clearly shows your area of interest\n",
    "\n",
    "- A visualization showing your data or a key data output plot / map.\n",
    "\n",
    "Intro kind of stuff:\n",
    "    Folium AOI map\n",
    "    NDVI plot\n",
    "    Soil water & temp plot ?\n",
    "\n",
    "LST product\n",
    "\n",
    "    Box plot (2021 vs 2022 processing error)\n",
    "    Landsat variability influencing fused product\n",
    "    CATD plot with ndvi (capturing trends?)\n",
    "\n",
    "all plots should have titles, axes labels, and captions (either in the plot or as Markdown)\n",
    "additional images that are not created via code are also allowed (but be sure to include them in your upload to CANVAS)\n",
    "Do not include any visualizations or outputs that you do not explain in your blog text"
   ]
  },
  {
   "cell_type": "markdown",
   "metadata": {},
   "source": []
  }
 ],
 "metadata": {
  "kernelspec": {
   "display_name": "Python 3",
   "language": "python",
   "name": "python3"
  },
  "language_info": {
   "name": "python",
   "version": "3.9.2"
  },
  "orig_nbformat": 4,
  "vscode": {
   "interpreter": {
    "hash": "aee8b7b246df8f9039afb4144a1f6fd8d2ca17a180786b69acc140d282b71a49"
   }
  }
 },
 "nbformat": 4,
 "nbformat_minor": 2
}
